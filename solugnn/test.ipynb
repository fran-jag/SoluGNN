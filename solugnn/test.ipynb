{
 "cells": [
  {
   "cell_type": "code",
   "execution_count": 1,
   "metadata": {},
   "outputs": [
    {
     "name": "stderr",
     "output_type": "stream",
     "text": [
      "[WARNING 11-10 14:20:10] ax.service.utils.with_db_settings_base: Ax currently requires a sqlalchemy version below 2.0. This will be addressed in a future release. Disabling SQL storage in Ax for now, if you would like to use SQL storage please install Ax with mysql extras via `pip install ax-platform[mysql]`.\n"
     ]
    }
   ],
   "source": [
    "from model_service import ModelService\n"
   ]
  },
  {
   "cell_type": "code",
   "execution_count": 2,
   "metadata": {},
   "outputs": [
    {
     "name": "stderr",
     "output_type": "stream",
     "text": [
      "/home/papafrita/projects/soluGNN/solugnn/model_service.py:73: FutureWarning: You are using `torch.load` with `weights_only=False` (the current default value), which uses the default pickle module implicitly. It is possible to construct malicious pickle data which will execute arbitrary code during unpickling (See https://github.com/pytorch/pytorch/blob/main/SECURITY.md#untrusted-models for more details). In a future release, the default value for `weights_only` will be flipped to `True`. This limits the functions that could be executed during unpickling. Arbitrary objects will no longer be allowed to be loaded via this mode unless they are explicitly allowlisted by the user via `torch.serialization.add_safe_globals`. We recommend you start setting `weights_only=True` for any use case where you don't have full control of the loaded file. Please open an issue on GitHub for any issues related to this experimental feature.\n",
      "  self.models = [torch.load(model_name) for model_name in model_names]\n"
     ]
    },
    {
     "name": "stdout",
     "output_type": "stream",
     "text": [
      "5 models found and loaded.\n"
     ]
    }
   ],
   "source": [
    "gcn_multi = ModelService(multi_model=True)\n",
    "gcn_multi.load_models()"
   ]
  },
  {
   "cell_type": "code",
   "execution_count": 3,
   "metadata": {},
   "outputs": [
    {
     "name": "stdout",
     "output_type": "stream",
     "text": [
      "Model optimized_gcn_seed_7.pt loaded.\n"
     ]
    }
   ],
   "source": [
    "gcn_single = ModelService()\n",
    "gcn_single.load_model('optimized_gcn_seed_7.pt')"
   ]
  },
  {
   "cell_type": "code",
   "execution_count": 4,
   "metadata": {},
   "outputs": [],
   "source": [
    "from collection import retrieve_dataset, get_dataloader"
   ]
  },
  {
   "cell_type": "code",
   "execution_count": 5,
   "metadata": {},
   "outputs": [],
   "source": [
    "test_set = retrieve_dataset(dataset_path='~/projects/soluGNN/data/test.csv')\n",
    "test_loader = get_dataloader(test_set)\n"
   ]
  },
  {
   "cell_type": "code",
   "execution_count": 49,
   "metadata": {},
   "outputs": [
    {
     "data": {
      "text/plain": [
       "(tensor(0.1577, device='cuda:0', grad_fn=<DivBackward0>),\n",
       " 1.0291787385940552,\n",
       " 1.5381962)"
      ]
     },
     "execution_count": 49,
     "metadata": {},
     "output_type": "execute_result"
    }
   ],
   "source": [
    "from model import initialize_optimizer, initialize_standardizer, test_model, initialize_loss, get_outputs\n",
    "\n",
    "outputs = get_outputs(retrieve_dataset())\n",
    "\n",
    "test_model(gcn_single.model,\n",
    "           test_dataloader=test_loader,\n",
    "           standardizer=initialize_standardizer(outputs),\n",
    "           loss_fn=initialize_loss(),\n",
    "           )\n",
    "\n"
   ]
  },
  {
   "cell_type": "code",
   "execution_count": 50,
   "metadata": {},
   "outputs": [],
   "source": [
    "import torch\n",
    "from collection import Graph\n",
    "\n",
    "standardizer=initialize_standardizer(outputs)\n",
    "def get_pred(smile, standardizer=standardizer):\n",
    "    mol_graph = Graph(smile)\n",
    "    node_mat = mol_graph.node_mat\n",
    "    adj_mat = mol_graph.adj_mat\n",
    "    max_atoms = mol_graph.max_atoms\n",
    "    node_vec_len = mol_graph.node_vec_len\n",
    "\n",
    "    # Reshape inputs\n",
    "    first_dim = int((torch.numel(torch.Tensor(node_mat)) / (max_atoms * node_vec_len)))\n",
    "    node_mat = node_mat.reshape(first_dim, max_atoms, node_vec_len)\n",
    "    adj_mat = adj_mat.reshape(first_dim, max_atoms, max_atoms)\n",
    "    # Package inputs; send to GPU\n",
    "    nn_input = (torch.Tensor(node_mat).cuda(), torch.Tensor(adj_mat).cuda())\n",
    "    # Predict\n",
    "\n",
    "    output = gcn_single.model(*nn_input)\n",
    "    output = standardizer.restore(output.detach().cpu())\n",
    "    return output.item()"
   ]
  },
  {
   "cell_type": "code",
   "execution_count": null,
   "metadata": {},
   "outputs": [],
   "source": []
  },
  {
   "cell_type": "code",
   "execution_count": 51,
   "metadata": {},
   "outputs": [
    {
     "data": {
      "text/html": [
       "<div>\n",
       "<style scoped>\n",
       "    .dataframe tbody tr th:only-of-type {\n",
       "        vertical-align: middle;\n",
       "    }\n",
       "\n",
       "    .dataframe tbody tr th {\n",
       "        vertical-align: top;\n",
       "    }\n",
       "\n",
       "    .dataframe thead th {\n",
       "        text-align: right;\n",
       "    }\n",
       "</style>\n",
       "<table border=\"1\" class=\"dataframe\">\n",
       "  <thead>\n",
       "    <tr style=\"text-align: right;\">\n",
       "      <th></th>\n",
       "      <th>Unnamed: 0</th>\n",
       "      <th>iupac</th>\n",
       "      <th>smiles</th>\n",
       "      <th>expt</th>\n",
       "      <th>calc</th>\n",
       "    </tr>\n",
       "  </thead>\n",
       "  <tbody>\n",
       "    <tr>\n",
       "      <th>0</th>\n",
       "      <td>178</td>\n",
       "      <td>1-pyrrolidin-1-ylethanone</td>\n",
       "      <td>CC(=O)N1CCCC1</td>\n",
       "      <td>-9.80</td>\n",
       "      <td>-7.831</td>\n",
       "    </tr>\n",
       "    <tr>\n",
       "      <th>1</th>\n",
       "      <td>466</td>\n",
       "      <td>propanenitrile</td>\n",
       "      <td>CCC#N</td>\n",
       "      <td>-3.84</td>\n",
       "      <td>-2.491</td>\n",
       "    </tr>\n",
       "    <tr>\n",
       "      <th>2</th>\n",
       "      <td>565</td>\n",
       "      <td>1-bromo-pentane</td>\n",
       "      <td>CCCCCBr</td>\n",
       "      <td>-0.10</td>\n",
       "      <td>0.824</td>\n",
       "    </tr>\n",
       "    <tr>\n",
       "      <th>3</th>\n",
       "      <td>51</td>\n",
       "      <td>2-methylbutan-1-ol</td>\n",
       "      <td>CC[C@@H](C)CO</td>\n",
       "      <td>-4.42</td>\n",
       "      <td>-2.995</td>\n",
       "    </tr>\n",
       "    <tr>\n",
       "      <th>4</th>\n",
       "      <td>34</td>\n",
       "      <td>N-ethylethanamine</td>\n",
       "      <td>CCNCC</td>\n",
       "      <td>-4.07</td>\n",
       "      <td>-2.986</td>\n",
       "    </tr>\n",
       "  </tbody>\n",
       "</table>\n",
       "</div>"
      ],
      "text/plain": [
       "   Unnamed: 0                      iupac         smiles  expt   calc\n",
       "0         178  1-pyrrolidin-1-ylethanone  CC(=O)N1CCCC1 -9.80 -7.831\n",
       "1         466             propanenitrile          CCC#N -3.84 -2.491\n",
       "2         565            1-bromo-pentane        CCCCCBr -0.10  0.824\n",
       "3          51         2-methylbutan-1-ol  CC[C@@H](C)CO -4.42 -2.995\n",
       "4          34          N-ethylethanamine          CCNCC -4.07 -2.986"
      ]
     },
     "execution_count": 51,
     "metadata": {},
     "output_type": "execute_result"
    }
   ],
   "source": [
    "import pandas as pd\n",
    "\n",
    "test_data = pd.read_csv('../data/test.csv')\n",
    "test_data.head()"
   ]
  },
  {
   "cell_type": "code",
   "execution_count": 52,
   "metadata": {},
   "outputs": [
    {
     "data": {
      "text/html": [
       "<div>\n",
       "<style scoped>\n",
       "    .dataframe tbody tr th:only-of-type {\n",
       "        vertical-align: middle;\n",
       "    }\n",
       "\n",
       "    .dataframe tbody tr th {\n",
       "        vertical-align: top;\n",
       "    }\n",
       "\n",
       "    .dataframe thead th {\n",
       "        text-align: right;\n",
       "    }\n",
       "</style>\n",
       "<table border=\"1\" class=\"dataframe\">\n",
       "  <thead>\n",
       "    <tr style=\"text-align: right;\">\n",
       "      <th></th>\n",
       "      <th>Unnamed: 0</th>\n",
       "      <th>iupac</th>\n",
       "      <th>smiles</th>\n",
       "      <th>expt</th>\n",
       "      <th>calc</th>\n",
       "      <th>predicted</th>\n",
       "    </tr>\n",
       "  </thead>\n",
       "  <tbody>\n",
       "    <tr>\n",
       "      <th>0</th>\n",
       "      <td>178</td>\n",
       "      <td>1-pyrrolidin-1-ylethanone</td>\n",
       "      <td>CC(=O)N1CCCC1</td>\n",
       "      <td>-9.80</td>\n",
       "      <td>-7.831</td>\n",
       "      <td>-4.719940</td>\n",
       "    </tr>\n",
       "    <tr>\n",
       "      <th>1</th>\n",
       "      <td>466</td>\n",
       "      <td>propanenitrile</td>\n",
       "      <td>CCC#N</td>\n",
       "      <td>-3.84</td>\n",
       "      <td>-2.491</td>\n",
       "      <td>-3.776811</td>\n",
       "    </tr>\n",
       "    <tr>\n",
       "      <th>2</th>\n",
       "      <td>565</td>\n",
       "      <td>1-bromo-pentane</td>\n",
       "      <td>CCCCCBr</td>\n",
       "      <td>-0.10</td>\n",
       "      <td>0.824</td>\n",
       "      <td>0.723713</td>\n",
       "    </tr>\n",
       "    <tr>\n",
       "      <th>3</th>\n",
       "      <td>51</td>\n",
       "      <td>2-methylbutan-1-ol</td>\n",
       "      <td>CC[C@@H](C)CO</td>\n",
       "      <td>-4.42</td>\n",
       "      <td>-2.995</td>\n",
       "      <td>-4.148237</td>\n",
       "    </tr>\n",
       "    <tr>\n",
       "      <th>4</th>\n",
       "      <td>34</td>\n",
       "      <td>N-ethylethanamine</td>\n",
       "      <td>CCNCC</td>\n",
       "      <td>-4.07</td>\n",
       "      <td>-2.986</td>\n",
       "      <td>-4.751862</td>\n",
       "    </tr>\n",
       "  </tbody>\n",
       "</table>\n",
       "</div>"
      ],
      "text/plain": [
       "   Unnamed: 0                      iupac         smiles  expt   calc  \\\n",
       "0         178  1-pyrrolidin-1-ylethanone  CC(=O)N1CCCC1 -9.80 -7.831   \n",
       "1         466             propanenitrile          CCC#N -3.84 -2.491   \n",
       "2         565            1-bromo-pentane        CCCCCBr -0.10  0.824   \n",
       "3          51         2-methylbutan-1-ol  CC[C@@H](C)CO -4.42 -2.995   \n",
       "4          34          N-ethylethanamine          CCNCC -4.07 -2.986   \n",
       "\n",
       "   predicted  \n",
       "0  -4.719940  \n",
       "1  -3.776811  \n",
       "2   0.723713  \n",
       "3  -4.148237  \n",
       "4  -4.751862  "
      ]
     },
     "execution_count": 52,
     "metadata": {},
     "output_type": "execute_result"
    }
   ],
   "source": [
    "test_data['predicted'] = test_data['smiles'].apply(get_pred)\n",
    "test_data.head()"
   ]
  },
  {
   "cell_type": "code",
   "execution_count": 53,
   "metadata": {},
   "outputs": [
    {
     "data": {
      "text/plain": [
       "1.5381961635577326"
      ]
     },
     "execution_count": 53,
     "metadata": {},
     "output_type": "execute_result"
    }
   ],
   "source": [
    "from sklearn.metrics import root_mean_squared_error\n",
    "\n",
    "root_mean_squared_error(test_data['expt'], test_data['predicted'])"
   ]
  },
  {
   "cell_type": "code",
   "execution_count": null,
   "metadata": {},
   "outputs": [],
   "source": []
  }
 ],
 "metadata": {
  "kernelspec": {
   "display_name": ".venv",
   "language": "python",
   "name": "python3"
  },
  "language_info": {
   "codemirror_mode": {
    "name": "ipython",
    "version": 3
   },
   "file_extension": ".py",
   "mimetype": "text/x-python",
   "name": "python",
   "nbconvert_exporter": "python",
   "pygments_lexer": "ipython3",
   "version": "3.11.2"
  }
 },
 "nbformat": 4,
 "nbformat_minor": 2
}
